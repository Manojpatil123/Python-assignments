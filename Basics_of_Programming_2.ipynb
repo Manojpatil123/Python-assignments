{
  "nbformat": 4,
  "nbformat_minor": 0,
  "metadata": {
    "colab": {
      "name": " Basics of Programming - 2.ipynb",
      "private_outputs": true,
      "provenance": [],
      "collapsed_sections": [],
      "include_colab_link": true
    },
    "kernelspec": {
      "name": "python3",
      "display_name": "Python 3"
    },
    "language_info": {
      "name": "python"
    }
  },
  "cells": [
    {
      "cell_type": "markdown",
      "metadata": {
        "id": "view-in-github",
        "colab_type": "text"
      },
      "source": [
        "<a href=\"https://colab.research.google.com/github/Manojpatil123/Python-assignments/blob/main/Basics_of_Programming_2.ipynb\" target=\"_parent\"><img src=\"https://colab.research.google.com/assets/colab-badge.svg\" alt=\"Open In Colab\"/></a>"
      ]
    },
    {
      "cell_type": "code",
      "execution_count": null,
      "metadata": {
        "id": "Y_DgxOI9QpRd"
      },
      "outputs": [],
      "source": [
        "# 1. focus on the first line\n",
        "# 2. count no of stars and no of spaces\n",
        "# 3. make it generic equation using table\n",
        "# 4. right relation of rth line and (r+1)th line\n",
        "\n",
        "\n",
        "def pattern_01(N):\n",
        "    nst = 1\n",
        "    nsp = N - 1\n",
        "\n",
        "    for r in range(1, N + 1):\n",
        "        # spaces\n",
        "        for csp in range(1, nsp + 1):\n",
        "            print(\"  \", end=\"\")\n",
        "\n",
        "        # stars\n",
        "        for cst in range(1, nst + 1):\n",
        "            print(\"* \", end=\"\")\n",
        "\n",
        "        nst += 1\n",
        "        nsp -= 1\n",
        "        print()\n",
        "\n",
        "pattern_01(5)\n"
      ]
    },
    {
      "cell_type": "code",
      "source": [
        "def pattern_02(N):\n",
        "    nst = N\n",
        "    nsp = 0\n",
        "\n",
        "    for r in range(1, N + 1):\n",
        "        # spaces\n",
        "        for csp in range(1, nsp + 1):\n",
        "            print(\"  \", end=\"\")\n",
        "\n",
        "        # star\n",
        "        for cst in range(1, nst + 1):\n",
        "            print(\"* \", end=\"\")\n",
        "\n",
        "        nst -= 1\n",
        "        nsp += 1\n",
        "        print()\n",
        "\n",
        "\n"
      ],
      "metadata": {
        "id": "3wRUyAC-Qwaq"
      },
      "execution_count": null,
      "outputs": []
    },
    {
      "cell_type": "code",
      "source": [
        "def pattern_03(N):\n",
        "    nst = 1\n",
        "    nsp = 0\n",
        "\n",
        "    for r in range(1, N + 1):\n",
        "        # spaces\n",
        "        for csp in range(1, nsp + 1):\n",
        "            print(\"  \", end=\"\")\n",
        "\n",
        "        # star\n",
        "        for cst in range(1, nst + 1):\n",
        "            print(\"* \", end=\"\")\n",
        "\n",
        "        nst += 1\n",
        "        print()\n",
        "\n",
        "\n"
      ],
      "metadata": {
        "id": "KpJT-woPQz8D"
      },
      "execution_count": null,
      "outputs": []
    },
    {
      "cell_type": "code",
      "source": [
        "def pattern_04(N):\n",
        "    nst = N\n",
        "    nsp = 0\n",
        "\n",
        "    for r in range(1, N + 1):\n",
        "        # spaces\n",
        "        for csp in range(1, nsp + 1):\n",
        "            print(\"  \", end=\"\")\n",
        "\n",
        "        # star\n",
        "        for cst in range(1, nst + 1):\n",
        "            print(\"* \", end=\"\")\n",
        "\n",
        "        nst -= 1\n",
        "        print()\n",
        "\n",
        "\n"
      ],
      "metadata": {
        "id": "18AfTB9_Q4RW"
      },
      "execution_count": null,
      "outputs": []
    },
    {
      "cell_type": "code",
      "source": [
        "def pattern_05(N):\n",
        "    nst = 1\n",
        "    count = 1\n",
        "    for r in range(1, N + 1):\n",
        "        # star\n",
        "        for cst in range(1, nst + 1):\n",
        "            print(count, \" \", end=\"\")\n",
        "            count += 1\n",
        "\n",
        "        nst += 1\n",
        "        print()\n",
        "\n",
        "\n"
      ],
      "metadata": {
        "id": "t4eNpMDEQ8c1"
      },
      "execution_count": null,
      "outputs": []
    },
    {
      "cell_type": "code",
      "source": [
        "def pattern_06(N):\n",
        "    nst = 1\n",
        "    a = 0\n",
        "    b = 1\n",
        "    for r in range(1, N + 1):\n",
        "        # star\n",
        "        for cst in range(1, nst + 1):\n",
        "            print(a, \" \", end=\"\")\n",
        "            sum = a + b\n",
        "            a = b\n",
        "            b = sum\n",
        "\n",
        "        nst += 1\n",
        "        print()\n",
        "\n",
        "\n"
      ],
      "metadata": {
        "id": "ND5cXVrqRCUB"
      },
      "execution_count": null,
      "outputs": []
    },
    {
      "cell_type": "code",
      "source": [
        "def pattern07_binomialSeries(N):\n",
        "    nst = 1\n",
        "    for n in range(0, N):\n",
        "        # star\n",
        "        val = 1\n",
        "        for r in range(0, nst):\n",
        "            print(val, \" \", end=\"\")\n",
        "            val = (n - r) * val / (r + 1)\n",
        "\n",
        "        nst += 1\n",
        "        print()\n",
        "\n",
        "\n"
      ],
      "metadata": {
        "id": "LO3LKyq6RFQC"
      },
      "execution_count": null,
      "outputs": []
    },
    {
      "cell_type": "code",
      "source": [
        "def pattern08_pyramid(N):\n",
        "    nst = 1\n",
        "    nsp = N - 1\n",
        "\n",
        "    for r in range(1, N + 1):\n",
        "        # spaces\n",
        "        for csp in range(1, nsp + 1):\n",
        "            print(\"  \", end=\"\")\n",
        "\n",
        "        # star\n",
        "        for cst in range(1, nst + 1):\n",
        "            print(\"* \", end=\"\")\n",
        "\n",
        "        nst += 2\n",
        "        nsp -= 1\n",
        "        print()\n",
        "\n",
        "\n"
      ],
      "metadata": {
        "id": "9WWaFN6QRLRt"
      },
      "execution_count": null,
      "outputs": []
    },
    {
      "cell_type": "code",
      "source": [
        "def pattern09_inversePyramid(N):\n",
        "    nst = 2 * N - 1\n",
        "    nsp = 0\n",
        "\n",
        "    for r in range(1, N + 1):\n",
        "        # spaces\n",
        "        for csp in range(1, nsp + 1):\n",
        "            print(\"  \", end=\"\")\n",
        "\n",
        "        # star\n",
        "        for cst in range(1, nst + 1):\n",
        "            print(\"* \", end=\"\")\n",
        "\n",
        "        nst -= 2\n",
        "        nsp += 1\n",
        "        print()\n",
        "\n",
        "\n"
      ],
      "metadata": {
        "id": "aOSF-mYMROFG"
      },
      "execution_count": null,
      "outputs": []
    },
    {
      "cell_type": "code",
      "source": [
        "def pattern09_NumberPyramid(N):\n",
        "    nst = 1\n",
        "    nsp = N - 1\n",
        "\n",
        "    for r in range(1, N + 1):\n",
        "        # spaces\n",
        "        for csp in range(1, nsp + 1):\n",
        "            print(\"  \", end=\"\")\n",
        "\n",
        "        # star\n",
        "        count = 1\n",
        "        for cst in range(1, nst + 1):\n",
        "            print(count, \" \", end=\"\")\n",
        "            if cst <= nst / 2:\n",
        "                count += 1\n",
        "            else:\n",
        "                count -= 1\n",
        "\n",
        "        nst += 2\n",
        "        nsp -= 1\n",
        "        print()\n",
        "\n",
        "\n"
      ],
      "metadata": {
        "id": "Ceu6WI-ZRRrC"
      },
      "execution_count": null,
      "outputs": []
    },
    {
      "cell_type": "code",
      "source": [
        "def pattern10_NumberPyramid_02(N):\n",
        "    nst = 1\n",
        "    nsp = N - 1\n",
        "\n",
        "    for r in range(1, N + 1):\n",
        "        # spaces\n",
        "        for csp in range(1, nsp + 1):\n",
        "            print(\"  \", end=\"\")\n",
        "\n",
        "        # star\n",
        "        val = 1\n",
        "        for cst in range(1, nst + 1):\n",
        "            print(val, \" \", end=\"\")\n",
        "            if cst <= nst / 2:\n",
        "                val *= 2\n",
        "            else:\n",
        "                val /= 2\n",
        "\n",
        "        nst += 2\n",
        "        nsp -= 1\n",
        "        print()\n",
        "\n",
        "\n"
      ],
      "metadata": {
        "id": "z6pc2PAARVOn"
      },
      "execution_count": null,
      "outputs": []
    },
    {
      "cell_type": "code",
      "source": [
        "def pattern11_diamond(N):\n",
        "    nst = 1\n",
        "    nsp = N / 2\n",
        "\n",
        "    for r in range(1, N + 1):\n",
        "        # spaces\n",
        "        for csp in range(1, nsp + 1):\n",
        "            print(\"  \", end=\"\")\n",
        "\n",
        "        # star\n",
        "        for cst in range(1, nst + 1):\n",
        "            print(\"* \", end=\"\")\n",
        "\n",
        "        if r <= N / 2:\n",
        "            nst += 2\n",
        "            nsp -= 1\n",
        "        else:\n",
        "            nsp += 1\n",
        "            nst -= 2\n",
        "        print()"
      ],
      "metadata": {
        "id": "01DnQTKvRYT_"
      },
      "execution_count": null,
      "outputs": []
    }
  ]
}