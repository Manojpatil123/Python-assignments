{
  "cells": [
    {
      "cell_type": "code",
      "execution_count": null,
      "id": "a261fcaa",
      "metadata": {
        "scrolled": false,
        "id": "a261fcaa",
        "outputId": "7b61de80-8050-4c15-fb85-8b1154a6f824"
      },
      "outputs": [
        {
          "data": {
            "text/plain": [
              "['LEMON PEPPER',\n",
              " 'IODIZED SALT NESALT SUPPLIET IODIDE',\n",
              " 'SAN FRANCISCO SALT CO. NULALAYAN SALT SAN FRANCISCO SALT CO.',\n",
              " 'GARLIC SALT',\n",
              " 'The Tele Gar Powo',\n",
              " 'IODIZED SALT ANECESSARY NUTE',\n",
              " 'GARLIC POWDER',\n",
              " 'MORTON® 1848 TE SALT LESS SODIUM',\n",
              " 'OMISON THOM Ance 9/ OLD PHPPIR SUPREME',\n",
              " 'KINDER RUB BUTTERY STEAKHOUSE 104A / 2L',\n",
              " 'MORTON IODIZED SALT BLACK PEPPER',\n",
              " 'HimalaS. Himalayas Pink Sca Sidy fillable Gril',\n",
              " 'THOM SON SLD PIPPER SUPREME Tex',\n",
              " 'IODIZED SALT KS SALT SUPPLIES JODE! NECESSARY NUTRIENT',\n",
              " 'GARLIC POWDER',\n",
              " \"KINDER'S RUD CALI'S BLACKENED\",\n",
              " 'IODIZED SALT NE SAIT SUPPLIES JOGOSDE A NECESSARY NUTRIENT',\n",
              " \"LAWRY'S SEASONED SALT\",\n",
              " 'SALT 643 SAAT DOES NOT HUNGRY COIDE, A NECESSARY NU',\n",
              " 'McCormick Minced Garlic',\n",
              " 'ashfille ATT CAICKE',\n",
              " 'nashville HOT CHICKE',\n",
              " \"LOWER PRICES EVERY DAY LAWRY'S GARLIC SALT COARSE GIROCND OU\",\n",
              " 'MORTON IODIZED SALT BLACK PEPPER',\n",
              " \"LAWRY'S GARLIC SALT COARSE GROUND ET\",\n",
              " 'PURE SAJT 4A BLACK FERPER',\n",
              " 'trill Limny SEASONING',\n",
              " 'MORTON NATURE: SEASON®',\n",
              " 'MORTON TE SALT LESS SODIUM',\n",
              " 'GARLIC SALT',\n",
              " \"LAWRY'S SEASONED SALT ECONOMY DIZE\",\n",
              " \"LAWRY'S SEASONED SALT ECONOMY MUS\",\n",
              " 'GARLIC SALT',\n",
              " 'GARLIC POWDER',\n",
              " 'SALE OR GARLIC eru aufated',\n",
              " 'IODIZED SALT SALT SUPPLIES JOOP RACHELARY NUTA',\n",
              " 'ODIZED SALT AMI SUPPLIES IODIDE SUSARY NUTRIENT',\n",
              " '25XMORE Garlic Powder',\n",
              " 'OMA ni OLDET ITALIAN STYLE SEASONING',\n",
              " 'Sticks ON',\n",
              " 'SAIGON CINNAMDE Sticks',\n",
              " 'KINDE BUT STEADDONS 1046',\n",
              " 'PACIFIC COAST Mack Peppercorn',\n",
              " '6 Know Chicken favor',\n",
              " 'Knon Park',\n",
              " '',\n",
              " '',\n",
              " 'ESE MICES',\n",
              " '',\n",
              " 'e',\n",
              " 'sigo ordines',\n",
              " '',\n",
              " 'CHOW MEIN NOOL',\n",
              " 'igo fines',\n",
              " 'DIVISTY later Chestnuts',\n",
              " '',\n",
              " '',\n",
              " 'amy as ADOBE Flavorsof the Is.Ippine Islands',\n",
              " 'Lo Mein WEL-PAC WEI LO MEIN UD EGG NOODLES NOOD',\n",
              " 'TASTY CURRY Japanese Curry Mix',\n",
              " 'ugo edines',\n",
              " 'edines',\n",
              " 'igo rdines',\n",
              " 'HAI',\n",
              " 'B ine']"
            ]
          },
          "execution_count": 234,
          "metadata": {},
          "output_type": "execute_result"
        }
      ],
      "source": [
        "text"
      ]
    },
    {
      "cell_type": "code",
      "execution_count": 135,
      "id": "242e8ddb",
      "metadata": {
        "id": "242e8ddb"
      },
      "outputs": [],
      "source": [
        "text2=['LEMON PEPPER',\n",
        " 'IODIZED SALT NESALT SUPPLIET IODIDE',\n",
        " 'SAN FRANCISCO SALT CO. NULALAYAN SALT SAN FRANCISCO SALT CO.',\n",
        " 'GARLIC SALT',\n",
        " 'The Tele Gar Powo',\n",
        " 'IODIZED SALT ANECESSARY NUTE',\n",
        " 'GARLIC POWDER',\n",
        " 'MORTON® 1848 TE SALT LESS SODIUM',\n",
        " 'OMISON THOM Ance 9/ OLD PHPPIR SUPREME',\n",
        " 'KINDER RUB BUTTERY STEAKHOUSE 104A / 2L',\n",
        " 'MORTON IODIZED SALT BLACK PEPPER',\n",
        " 'HimalaS. Himalayas Pink Sca Sidy fillable Gril',\n",
        " 'THOM SON SLD PIPPER SUPREME Tex',\n",
        " 'IODIZED SALT KS SALT SUPPLIES JODE! NECESSARY NUTRIENT',\n",
        " 'GARLIC POWDER',\n",
        " \"KINDER'S RUD CALI'S BLACKENED\",\n",
        " 'IODIZED SALT NE SAIT SUPPLIES JOGOSDE A NECESSARY NUTRIENT',\n",
        " \"LAWRY'S SEASONED SALT\",\n",
        " 'SALT 643 SAAT DOES NOT HUNGRY COIDE, A NECESSARY NU',\n",
        " 'McCormick Minced Garlic',\n",
        " 'ashfille ATT CAICKE',\n",
        " 'nashville HOT CHICKE',\n",
        " \"LOWER PRICES EVERY DAY LAWRY'S GARLIC SALT COARSE GIROCND OU\",\n",
        " 'MORTON IODIZED SALT BLACK PEPPER',\n",
        " \"LAWRY'S GARLIC SALT COARSE GROUND ET\",\n",
        " 'PURE SAJT 4A BLACK FERPER',\n",
        " 'trill Limny SEASONING',\n",
        " 'MORTON NATURE: SEASON®',\n",
        " 'MORTON TE SALT LESS SODIUM',\n",
        " 'GARLIC SALT',\n",
        " \"LAWRY'S SEASONED SALT ECONOMY DIZE\",\n",
        " \"LAWRY'S SEASONED SALT ECONOMY MUS\",\n",
        " 'GARLIC SALT',\n",
        " 'GARLIC POWDER',\n",
        " 'SALE OR GARLIC eru aufated',\n",
        " 'IODIZED SALT SALT SUPPLIES JOOP RACHELARY NUTA',\n",
        " 'ODIZED SALT AMI SUPPLIES IODIDE SUSARY NUTRIENT',\n",
        " '25XMORE Garlic Powder',\n",
        " 'OMA ni OLDET ITALIAN STYLE SEASONING',\n",
        " 'Sticks ON',\n",
        " 'SAIGON CINNAMDE Sticks',\n",
        " 'KINDE BUT STEADDONS 1046',\n",
        " 'PACIFIC COAST Mack Peppercorn',\n",
        " '6 Know Chicken favor',\n",
        " 'Knon Park',\n",
        " '',\n",
        " '',\n",
        " 'ESE MICES',\n",
        " '',\n",
        " 'e',\n",
        " 'sigo ordines',\n",
        " '',\n",
        " 'CHOW MEIN NOOL',\n",
        " 'igo fines',\n",
        " 'DIVISTY later Chestnuts',\n",
        " '',\n",
        " '',\n",
        " 'amy as ADOBE Flavorsof the Is.Ippine Islands',\n",
        " 'Lo Mein WEL-PAC WEI LO MEIN UD EGG NOODLES NOOD',\n",
        " 'TASTY CURRY Japanese Curry Mix',\n",
        " 'ugo edines',\n",
        " 'edines',\n",
        " 'igo rdines',\n",
        " 'HAI',\n",
        " 'B ine']"
      ]
    },
    {
      "cell_type": "code",
      "source": [
        "for i in text2:\n",
        "  if('' ==i):\n",
        "   text2.remove(i)"
      ],
      "metadata": {
        "id": "HDx3RYbtx8iw"
      },
      "id": "HDx3RYbtx8iw",
      "execution_count": 138,
      "outputs": []
    },
    {
      "cell_type": "code",
      "source": [
        "text2"
      ],
      "metadata": {
        "colab": {
          "base_uri": "https://localhost:8080/"
        },
        "id": "JF3m8sd0z0GV",
        "outputId": "223cff50-6ffc-456a-f2b5-675dd8c0c83b"
      },
      "id": "JF3m8sd0z0GV",
      "execution_count": 153,
      "outputs": [
        {
          "output_type": "execute_result",
          "data": {
            "text/plain": [
              "['LEMON PEPPER',\n",
              " 'IODIZED SALT NESALT SUPPLIET IODIDE',\n",
              " 'SAN FRANCISCO SALT CO. NULALAYAN SALT SAN FRANCISCO SALT CO.',\n",
              " 'GARLIC SALT',\n",
              " 'The Tele Gar Powo',\n",
              " 'IODIZED SALT ANECESSARY NUTE',\n",
              " 'GARLIC POWDER',\n",
              " 'MORTON® 1848 TE SALT LESS SODIUM',\n",
              " 'OMISON THOM Ance 9/ OLD PHPPIR SUPREME',\n",
              " 'KINDER RUB BUTTERY STEAKHOUSE 104A / 2L',\n",
              " 'MORTON IODIZED SALT BLACK PEPPER',\n",
              " 'HimalaS. Himalayas Pink Sca Sidy fillable Gril',\n",
              " 'THOM SON SLD PIPPER SUPREME Tex',\n",
              " 'IODIZED SALT KS SALT SUPPLIES JODE! NECESSARY NUTRIENT',\n",
              " 'GARLIC POWDER',\n",
              " \"KINDER'S RUD CALI'S BLACKENED\",\n",
              " 'IODIZED SALT NE SAIT SUPPLIES JOGOSDE A NECESSARY NUTRIENT',\n",
              " \"LAWRY'S SEASONED SALT\",\n",
              " 'SALT 643 SAAT DOES NOT HUNGRY COIDE, A NECESSARY NU',\n",
              " 'McCormick Minced Garlic',\n",
              " 'ashfille ATT CAICKE',\n",
              " 'nashville HOT CHICKE',\n",
              " \"LOWER PRICES EVERY DAY LAWRY'S GARLIC SALT COARSE GIROCND OU\",\n",
              " 'MORTON IODIZED SALT BLACK PEPPER',\n",
              " \"LAWRY'S GARLIC SALT COARSE GROUND ET\",\n",
              " 'PURE SAJT 4A BLACK FERPER',\n",
              " 'trill Limny SEASONING',\n",
              " 'MORTON NATURE: SEASON®',\n",
              " 'MORTON TE SALT LESS SODIUM',\n",
              " 'GARLIC SALT',\n",
              " \"LAWRY'S SEASONED SALT ECONOMY DIZE\",\n",
              " \"LAWRY'S SEASONED SALT ECONOMY MUS\",\n",
              " 'GARLIC SALT',\n",
              " 'GARLIC POWDER',\n",
              " 'SALE OR GARLIC eru aufated',\n",
              " 'IODIZED SALT SALT SUPPLIES JOOP RACHELARY NUTA',\n",
              " 'ODIZED SALT AMI SUPPLIES IODIDE SUSARY NUTRIENT',\n",
              " '25XMORE Garlic Powder',\n",
              " 'OMA ni OLDET ITALIAN STYLE SEASONING',\n",
              " 'Sticks ON',\n",
              " 'SAIGON CINNAMDE Sticks',\n",
              " 'KINDE BUT STEADDONS 1046',\n",
              " 'PACIFIC COAST Mack Peppercorn',\n",
              " '6 Know Chicken favor',\n",
              " 'Knon Park',\n",
              " 'ESE MICES',\n",
              " 'e',\n",
              " 'sigo ordines',\n",
              " 'CHOW MEIN NOOL',\n",
              " 'igo fines',\n",
              " 'DIVISTY later Chestnuts',\n",
              " 'amy as ADOBE Flavorsof the Is.Ippine Islands',\n",
              " 'Lo Mein WEL-PAC WEI LO MEIN UD EGG NOODLES NOOD',\n",
              " 'TASTY CURRY Japanese Curry Mix',\n",
              " 'ugo edines',\n",
              " 'edines',\n",
              " 'igo rdines',\n",
              " 'HAI',\n",
              " 'B ine']"
            ]
          },
          "metadata": {},
          "execution_count": 153
        }
      ]
    },
    {
      "cell_type": "markdown",
      "source": [
        "## null values are removed "
      ],
      "metadata": {
        "id": "HFqDV4391VZc"
      },
      "id": "HFqDV4391VZc"
    },
    {
      "cell_type": "code",
      "source": [
        "#removing 100 % duplicates\n",
        "text3=[]\n",
        "for i in text2:\n",
        "  if i not in text3:\n",
        "      text3.append(i)\n",
        "    "
      ],
      "metadata": {
        "id": "ceSd7bk6-pA_"
      },
      "id": "ceSd7bk6-pA_",
      "execution_count": 154,
      "outputs": []
    },
    {
      "cell_type": "code",
      "source": [
        "text3"
      ],
      "metadata": {
        "colab": {
          "base_uri": "https://localhost:8080/"
        },
        "id": "po_OQkWS8_ny",
        "outputId": "797780e1-bf1f-4dc7-e688-674bda9190a0"
      },
      "id": "po_OQkWS8_ny",
      "execution_count": 155,
      "outputs": [
        {
          "output_type": "execute_result",
          "data": {
            "text/plain": [
              "['LEMON PEPPER',\n",
              " 'IODIZED SALT NESALT SUPPLIET IODIDE',\n",
              " 'SAN FRANCISCO SALT CO. NULALAYAN SALT SAN FRANCISCO SALT CO.',\n",
              " 'GARLIC SALT',\n",
              " 'The Tele Gar Powo',\n",
              " 'IODIZED SALT ANECESSARY NUTE',\n",
              " 'GARLIC POWDER',\n",
              " 'MORTON® 1848 TE SALT LESS SODIUM',\n",
              " 'OMISON THOM Ance 9/ OLD PHPPIR SUPREME',\n",
              " 'KINDER RUB BUTTERY STEAKHOUSE 104A / 2L',\n",
              " 'MORTON IODIZED SALT BLACK PEPPER',\n",
              " 'HimalaS. Himalayas Pink Sca Sidy fillable Gril',\n",
              " 'THOM SON SLD PIPPER SUPREME Tex',\n",
              " 'IODIZED SALT KS SALT SUPPLIES JODE! NECESSARY NUTRIENT',\n",
              " \"KINDER'S RUD CALI'S BLACKENED\",\n",
              " 'IODIZED SALT NE SAIT SUPPLIES JOGOSDE A NECESSARY NUTRIENT',\n",
              " \"LAWRY'S SEASONED SALT\",\n",
              " 'SALT 643 SAAT DOES NOT HUNGRY COIDE, A NECESSARY NU',\n",
              " 'McCormick Minced Garlic',\n",
              " 'ashfille ATT CAICKE',\n",
              " 'nashville HOT CHICKE',\n",
              " \"LOWER PRICES EVERY DAY LAWRY'S GARLIC SALT COARSE GIROCND OU\",\n",
              " \"LAWRY'S GARLIC SALT COARSE GROUND ET\",\n",
              " 'PURE SAJT 4A BLACK FERPER',\n",
              " 'trill Limny SEASONING',\n",
              " 'MORTON NATURE: SEASON®',\n",
              " 'MORTON TE SALT LESS SODIUM',\n",
              " \"LAWRY'S SEASONED SALT ECONOMY DIZE\",\n",
              " \"LAWRY'S SEASONED SALT ECONOMY MUS\",\n",
              " 'SALE OR GARLIC eru aufated',\n",
              " 'IODIZED SALT SALT SUPPLIES JOOP RACHELARY NUTA',\n",
              " 'ODIZED SALT AMI SUPPLIES IODIDE SUSARY NUTRIENT',\n",
              " '25XMORE Garlic Powder',\n",
              " 'OMA ni OLDET ITALIAN STYLE SEASONING',\n",
              " 'Sticks ON',\n",
              " 'SAIGON CINNAMDE Sticks',\n",
              " 'KINDE BUT STEADDONS 1046',\n",
              " 'PACIFIC COAST Mack Peppercorn',\n",
              " '6 Know Chicken favor',\n",
              " 'Knon Park',\n",
              " 'ESE MICES',\n",
              " 'e',\n",
              " 'sigo ordines',\n",
              " 'CHOW MEIN NOOL',\n",
              " 'igo fines',\n",
              " 'DIVISTY later Chestnuts',\n",
              " 'amy as ADOBE Flavorsof the Is.Ippine Islands',\n",
              " 'Lo Mein WEL-PAC WEI LO MEIN UD EGG NOODLES NOOD',\n",
              " 'TASTY CURRY Japanese Curry Mix',\n",
              " 'ugo edines',\n",
              " 'edines',\n",
              " 'igo rdines',\n",
              " 'HAI',\n",
              " 'B ine']"
            ]
          },
          "metadata": {},
          "execution_count": 155
        }
      ]
    },
    {
      "cell_type": "code",
      "source": [
        "import difflib"
      ],
      "metadata": {
        "id": "pSX7D3cJ59DK"
      },
      "id": "pSX7D3cJ59DK",
      "execution_count": 156,
      "outputs": []
    },
    {
      "cell_type": "code",
      "source": [
        "#collecting  70 to 99% duplicates\n",
        "a=[]#storing duplicates percentage\n",
        "b=[]#storing duplicate eliment\n",
        "for i in text3:\n",
        " for j in text3:\n",
        "   if(i!=j):\n",
        "     seq = difflib.SequenceMatcher(None,i,j)\n",
        "     d = seq.ratio()*100\n",
        "     a.append(d)\n",
        " \n",
        "     if(d>=70.0):\n",
        "       b.append(i)\n"
      ],
      "metadata": {
        "id": "gU00q4j445FC"
      },
      "id": "gU00q4j445FC",
      "execution_count": 143,
      "outputs": []
    },
    {
      "cell_type": "code",
      "source": [
        "b=set(b)"
      ],
      "metadata": {
        "id": "9qT4PIkwG5se"
      },
      "id": "9qT4PIkwG5se",
      "execution_count": 157,
      "outputs": []
    },
    {
      "cell_type": "code",
      "source": [
        "b"
      ],
      "metadata": {
        "colab": {
          "base_uri": "https://localhost:8080/"
        },
        "id": "jxAg58QeHk4O",
        "outputId": "2a75c0fd-5432-47fa-8a7e-bd47caf4197d"
      },
      "id": "jxAg58QeHk4O",
      "execution_count": 158,
      "outputs": [
        {
          "output_type": "execute_result",
          "data": {
            "text/plain": [
              "{'IODIZED SALT KS SALT SUPPLIES JODE! NECESSARY NUTRIENT',\n",
              " 'IODIZED SALT NE SAIT SUPPLIES JOGOSDE A NECESSARY NUTRIENT',\n",
              " 'IODIZED SALT SALT SUPPLIES JOOP RACHELARY NUTA',\n",
              " \"LAWRY'S SEASONED SALT\",\n",
              " \"LAWRY'S SEASONED SALT ECONOMY DIZE\",\n",
              " \"LAWRY'S SEASONED SALT ECONOMY MUS\",\n",
              " 'MORTON TE SALT LESS SODIUM',\n",
              " 'MORTON® 1848 TE SALT LESS SODIUM',\n",
              " 'ODIZED SALT AMI SUPPLIES IODIDE SUSARY NUTRIENT',\n",
              " 'ashfille ATT CAICKE',\n",
              " 'edines',\n",
              " 'igo fines',\n",
              " 'igo rdines',\n",
              " 'nashville HOT CHICKE',\n",
              " 'sigo ordines',\n",
              " 'ugo edines'}"
            ]
          },
          "metadata": {},
          "execution_count": 158
        }
      ]
    },
    {
      "cell_type": "code",
      "source": [
        "#removing 70 to 99% duplicates\n",
        "for i in b:\n",
        "  print(i)\n",
        "  text3.remove(i)"
      ],
      "metadata": {
        "id": "Ieexhmeq45CE",
        "colab": {
          "base_uri": "https://localhost:8080/"
        },
        "outputId": "9d909278-9955-44a2-c696-186170520d1a"
      },
      "id": "Ieexhmeq45CE",
      "execution_count": 160,
      "outputs": [
        {
          "output_type": "stream",
          "name": "stdout",
          "text": [
            "IODIZED SALT KS SALT SUPPLIES JODE! NECESSARY NUTRIENT\n",
            "MORTON® 1848 TE SALT LESS SODIUM\n",
            "IODIZED SALT SALT SUPPLIES JOOP RACHELARY NUTA\n",
            "LAWRY'S SEASONED SALT\n",
            "ashfille ATT CAICKE\n",
            "LAWRY'S SEASONED SALT ECONOMY MUS\n",
            "IODIZED SALT NE SAIT SUPPLIES JOGOSDE A NECESSARY NUTRIENT\n",
            "MORTON TE SALT LESS SODIUM\n",
            "LAWRY'S SEASONED SALT ECONOMY DIZE\n",
            "ugo edines\n",
            "ODIZED SALT AMI SUPPLIES IODIDE SUSARY NUTRIENT\n",
            "sigo ordines\n",
            "igo fines\n",
            "igo rdines\n",
            "nashville HOT CHICKE\n",
            "edines\n"
          ]
        }
      ]
    },
    {
      "cell_type": "markdown",
      "source": [
        "# final output"
      ],
      "metadata": {
        "id": "bWIb1El0I_cT"
      },
      "id": "bWIb1El0I_cT"
    },
    {
      "cell_type": "code",
      "source": [
        "text3"
      ],
      "metadata": {
        "id": "wjSXGp9644-8",
        "colab": {
          "base_uri": "https://localhost:8080/"
        },
        "outputId": "546cd392-b1cd-4830-c4a6-cc57c992d2f4"
      },
      "id": "wjSXGp9644-8",
      "execution_count": 161,
      "outputs": [
        {
          "output_type": "execute_result",
          "data": {
            "text/plain": [
              "['LEMON PEPPER',\n",
              " 'IODIZED SALT NESALT SUPPLIET IODIDE',\n",
              " 'SAN FRANCISCO SALT CO. NULALAYAN SALT SAN FRANCISCO SALT CO.',\n",
              " 'GARLIC SALT',\n",
              " 'The Tele Gar Powo',\n",
              " 'IODIZED SALT ANECESSARY NUTE',\n",
              " 'GARLIC POWDER',\n",
              " 'OMISON THOM Ance 9/ OLD PHPPIR SUPREME',\n",
              " 'KINDER RUB BUTTERY STEAKHOUSE 104A / 2L',\n",
              " 'MORTON IODIZED SALT BLACK PEPPER',\n",
              " 'HimalaS. Himalayas Pink Sca Sidy fillable Gril',\n",
              " 'THOM SON SLD PIPPER SUPREME Tex',\n",
              " \"KINDER'S RUD CALI'S BLACKENED\",\n",
              " 'SALT 643 SAAT DOES NOT HUNGRY COIDE, A NECESSARY NU',\n",
              " 'McCormick Minced Garlic',\n",
              " \"LOWER PRICES EVERY DAY LAWRY'S GARLIC SALT COARSE GIROCND OU\",\n",
              " \"LAWRY'S GARLIC SALT COARSE GROUND ET\",\n",
              " 'PURE SAJT 4A BLACK FERPER',\n",
              " 'trill Limny SEASONING',\n",
              " 'MORTON NATURE: SEASON®',\n",
              " 'SALE OR GARLIC eru aufated',\n",
              " '25XMORE Garlic Powder',\n",
              " 'OMA ni OLDET ITALIAN STYLE SEASONING',\n",
              " 'Sticks ON',\n",
              " 'SAIGON CINNAMDE Sticks',\n",
              " 'KINDE BUT STEADDONS 1046',\n",
              " 'PACIFIC COAST Mack Peppercorn',\n",
              " '6 Know Chicken favor',\n",
              " 'Knon Park',\n",
              " 'ESE MICES',\n",
              " 'e',\n",
              " 'CHOW MEIN NOOL',\n",
              " 'DIVISTY later Chestnuts',\n",
              " 'amy as ADOBE Flavorsof the Is.Ippine Islands',\n",
              " 'Lo Mein WEL-PAC WEI LO MEIN UD EGG NOODLES NOOD',\n",
              " 'TASTY CURRY Japanese Curry Mix',\n",
              " 'HAI',\n",
              " 'B ine']"
            ]
          },
          "metadata": {},
          "execution_count": 161
        }
      ]
    },
    {
      "cell_type": "code",
      "source": [
        ""
      ],
      "metadata": {
        "id": "Rada6N8z4476"
      },
      "id": "Rada6N8z4476",
      "execution_count": null,
      "outputs": []
    },
    {
      "cell_type": "code",
      "source": [
        ""
      ],
      "metadata": {
        "id": "aZMqWNXov_lQ"
      },
      "id": "aZMqWNXov_lQ",
      "execution_count": null,
      "outputs": []
    }
  ],
  "metadata": {
    "kernelspec": {
      "display_name": "Python 3",
      "language": "python",
      "name": "python3"
    },
    "language_info": {
      "codemirror_mode": {
        "name": "ipython",
        "version": 3
      },
      "file_extension": ".py",
      "mimetype": "text/x-python",
      "name": "python",
      "nbconvert_exporter": "python",
      "pygments_lexer": "ipython3",
      "version": "3.8.8"
    },
    "colab": {
      "name": "problem for ssp.ipynb",
      "provenance": [],
      "collapsed_sections": []
    }
  },
  "nbformat": 4,
  "nbformat_minor": 5
}