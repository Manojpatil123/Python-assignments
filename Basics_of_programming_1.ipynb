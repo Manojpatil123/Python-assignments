{
  "nbformat": 4,
  "nbformat_minor": 0,
  "metadata": {
    "colab": {
      "name": "Basics of programming - 1.ipynb",
      "private_outputs": true,
      "provenance": [],
      "collapsed_sections": [],
      "include_colab_link": true
    },
    "kernelspec": {
      "name": "python3",
      "display_name": "Python 3"
    },
    "language_info": {
      "name": "python"
    }
  },
  "cells": [
    {
      "cell_type": "markdown",
      "metadata": {
        "id": "view-in-github",
        "colab_type": "text"
      },
      "source": [
        "<a href=\"https://colab.research.google.com/github/Manojpatil123/Python-assignments/blob/main/Basics_of_programming_1.ipynb\" target=\"_parent\"><img src=\"https://colab.research.google.com/assets/colab-badge.svg\" alt=\"Open In Colab\"/></a>"
      ]
    },
    {
      "cell_type": "code",
      "execution_count": null,
      "metadata": {
        "id": "5ZsYGh_bPhOy"
      },
      "outputs": [],
      "source": [
        "import math\n",
        "from sympy import isprime\n",
        "def printGreeting():\n",
        "    print(\"Hello World!\")"
      ]
    },
    {
      "cell_type": "code",
      "source": [
        "def printZ():\n",
        "    print(\"*****\")\n",
        "    print(\"   *\")\n",
        "    print(\"  *\")\n",
        "    print(\" *\")\n",
        "    print(\"*****\")"
      ],
      "metadata": {
        "id": "fg7X3nDGP3Xf"
      },
      "execution_count": null,
      "outputs": []
    },
    {
      "cell_type": "code",
      "source": [
        "# Grading System--------------------------------------\n",
        "\n",
        "\n",
        "def gradingSystem(marks):\n",
        "    if (marks > 90):\n",
        "        print(\"excellent\")\n",
        "    elif (marks > 80):\n",
        "        print(\"print good\")\n",
        "    elif (marks > 70):\n",
        "        print(\"fair\")\n",
        "    elif (marks > 60):\n",
        "        print(\"meets expectations\")\n",
        "    else:\n",
        "        print(\"below par\")\n",
        "\n",
        "\n",
        "def gradingSystem():\n",
        "    marks = input()\n",
        "    gradingSystem(int(marks))\n",
        "\n"
      ],
      "metadata": {
        "id": "pTUPl6vfP7YZ"
      },
      "execution_count": null,
      "outputs": []
    },
    {
      "cell_type": "code",
      "source": [
        "# Odd-Even--------------------------------------------\n",
        "\n",
        "\n",
        "def isEven(num):\n",
        "    if (num % 2 == 0):\n",
        "        return True\n",
        "    else:\n",
        "        return False\n",
        "\n",
        "\n",
        "def ifOdd(num):\n",
        "    return (True if(num % 2 != 0) else False)\n",
        "\n"
      ],
      "metadata": {
        "id": "PlKY3xi5P-wA"
      },
      "execution_count": null,
      "outputs": []
    },
    {
      "cell_type": "code",
      "source": [
        "# calc-----------------------------------------------------\n",
        "\n",
        "\n",
        "def calculator_(num1, num2, operator):\n",
        "    if (operator == '+'):\n",
        "        return num1 + num2\n",
        "    elif (operator == '-'):\n",
        "        return num1 - num2\n",
        "    elif (operator == '*'):\n",
        "        return num1 * num2\n",
        "    else:\n",
        "        return \"Invalid Input\"\n",
        "\n",
        "\n",
        "def calculator():\n",
        "    num1 = int(input())\n",
        "    num2 = int(input())\n",
        "    operator = input()\n",
        "\n",
        "    print(calculator_(num1, num2, operator[0]))\n",
        "\n",
        "\n"
      ],
      "metadata": {
        "id": "vpl_kJlWQB6n"
      },
      "execution_count": null,
      "outputs": []
    },
    {
      "cell_type": "code",
      "source": [
        "# prime Number----------------------------------------------\n",
        "\n",
        "def isPrimeNumber(num):\n",
        "    i = 2\n",
        "    while i * i <= num:\n",
        "        if(num % i == 0):\n",
        "            return False\n",
        "        i += 1\n",
        "\n",
        "    return True\n",
        "\n",
        "\n",
        "def printAllPrimeNumbers():\n",
        "    x = int(input())\n",
        "    y = int(input())\n",
        "\n",
        "    for num in range(x, y + 1):\n",
        "        if(isPrimeNumber(num)):\n",
        "            print(num)\n",
        "\n",
        "\n"
      ],
      "metadata": {
        "id": "nf-abP9jQEmf"
      },
      "execution_count": null,
      "outputs": []
    },
    {
      "cell_type": "code",
      "source": [
        "# Leetcode 509------------------------------------------------\n",
        "\n",
        "def printFibo(n):\n",
        "    a = 0\n",
        "    b = 1\n",
        "    for i in range(n):\n",
        "        # print(a)\n",
        "        sum = a + b\n",
        "        a = b\n",
        "        b = sum\n",
        "\n",
        "    return a\n",
        "\n"
      ],
      "metadata": {
        "id": "LrHy_rgvQGqq"
      },
      "execution_count": null,
      "outputs": []
    },
    {
      "cell_type": "code",
      "source": [
        "# Bulb_problem-------------------------------------------------\n",
        "\n",
        "def bulbToggle(num):\n",
        "    i = 1\n",
        "    while i * i <= num:\n",
        "        print(i)"
      ],
      "metadata": {
        "id": "YHGES23GQJH0"
      },
      "execution_count": null,
      "outputs": []
    }
  ]
}